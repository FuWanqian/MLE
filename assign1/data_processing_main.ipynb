{
 "cells": [
  {
   "cell_type": "code",
   "execution_count": 3,
   "metadata": {},
   "outputs": [],
   "source": [
    "import pyspark\n",
    "from pyspark.sql.functions import col\n",
    "from datetime import datetime\n",
    "import os\n",
    "\n"
   ]
  },
  {
   "cell_type": "markdown",
   "metadata": {},
   "source": [
    "## set up pyspark session"
   ]
  },
  {
   "cell_type": "code",
   "execution_count": 4,
   "metadata": {},
   "outputs": [
    {
     "name": "stderr",
     "output_type": "stream",
     "text": [
      "Setting default log level to \"WARN\".\n",
      "To adjust logging level use sc.setLogLevel(newLevel). For SparkR, use setLogLevel(newLevel).\n",
      "25/05/22 15:44:12 WARN NativeCodeLoader: Unable to load native-hadoop library for your platform... using builtin-java classes where applicable\n"
     ]
    }
   ],
   "source": [
    "# Initialize SparkSession\n",
    "spark = pyspark.sql.SparkSession.builder \\\n",
    "    .appName(\"dev\") \\\n",
    "    .master(\"local[*]\") \\\n",
    "    .getOrCreate()\n",
    "\n",
    "# Set log level to ERROR to hide warnings\n",
    "spark.sparkContext.setLogLevel(\"ERROR\")"
   ]
  },
  {
   "cell_type": "markdown",
   "metadata": {},
   "source": [
    "## set up config"
   ]
  },
  {
   "cell_type": "code",
   "execution_count": 5,
   "metadata": {},
   "outputs": [],
   "source": [
    "# set up config\n",
    "start_date = \"2023-01-01\"\n",
    "end_date = \"2024-12-01\"\n",
    "\n",
    "# set up path\n",
    "input_dir = \"data/\"\n",
    "output_dir = \"datamart/bronze/\"\n",
    "\n",
    "# List of CSV filenames to process\n",
    "filenames = [\"features_financials.csv\", \"features_attributes.csv\", \"feature_clickstream.csv\"]"
   ]
  },
  {
   "cell_type": "markdown",
   "metadata": {},
   "source": [
    "## Build Bronze Table"
   ]
  },
  {
   "cell_type": "code",
   "execution_count": 6,
   "metadata": {},
   "outputs": [],
   "source": [
    "def process_bronze_table():\n",
    "    \n",
    "    dataframes = {}\n",
    "    \n",
    "    for filename in filenames:\n",
    "        input_path = os.path.join(input_dir, filename)\n",
    "        df = spark.read.csv(input_path, header=True, inferSchema=True)\n",
    "\n",
    "        # Filter records within the specified date range\n",
    "        df_filtered = df.filter(\n",
    "            (col(\"snapshot_date\") >= start_date) & (col(\"snapshot_date\") <= end_date)\n",
    "        )\n",
    "\n",
    "        # Store filtered DataFrame in dictionary using base filename as the key\n",
    "        key = filename.replace(\".csv\", \"\")\n",
    "        dataframes[key] = df_filtered\n",
    "\n",
    "        # Save filtered data to CSV with new filename prefix \"bronze_\"\n",
    "        bronze_filename = \"bronze_\" + filename\n",
    "        output_path = os.path.join(output_dir, bronze_filename)\n",
    "        df_filtered.toPandas().to_csv(output_path, index=False)\n",
    "        print(f\"Saved filtered data to {output_path} with {df_filtered.count()} rows.\")\n",
    "\n",
    "    return dataframes"
   ]
  },
  {
   "cell_type": "code",
   "execution_count": 7,
   "metadata": {},
   "outputs": [],
   "source": [
    "#process_bronze_table()"
   ]
  },
  {
   "cell_type": "markdown",
   "metadata": {},
   "source": [
    "## Build Silver Table"
   ]
  },
  {
   "cell_type": "code",
   "execution_count": 8,
   "metadata": {},
   "outputs": [
    {
     "name": "stdout",
     "output_type": "stream",
     "text": [
      "bronze_features_financials.csv row count: 11974\n",
      "bronze_features_attributes.csv row count: 11974\n"
     ]
    },
    {
     "name": "stderr",
     "output_type": "stream",
     "text": [
      "                                                                                "
     ]
    },
    {
     "name": "stdout",
     "output_type": "stream",
     "text": [
      "bronze_feature_clickstream.csv row count: 215376\n"
     ]
    }
   ],
   "source": [
    "bronze_dir = \"datamart/bronze/\"\n",
    "\n",
    "\n",
    "#  Read bronze_features_financials.csv\n",
    "df_financials = spark.read.csv(os.path.join(bronze_dir, \"bronze_features_financials.csv\"), header=True, inferSchema=True)\n",
    "print(\"bronze_features_financials.csv row count:\", df_financials.count())\n",
    "\n",
    "# Read bronze_features_attributes.csv\n",
    "df_attributes = spark.read.csv(os.path.join(bronze_dir, \"bronze_features_attributes.csv\"), header=True, inferSchema=True)\n",
    "print(\"bronze_features_attributes.csv row count:\", df_attributes.count())\n",
    "\n",
    "# Read bronze_feature_clickstream.csv\n",
    "df_clickstream = spark.read.csv(os.path.join(bronze_dir, \"bronze_feature_clickstream.csv\"), header=True, inferSchema=True)\n",
    "print(\"bronze_feature_clickstream.csv row count:\", df_clickstream.count())"
   ]
  },
  {
   "cell_type": "markdown",
   "metadata": {},
   "source": [
    "1. delete missing value"
   ]
  },
  {
   "cell_type": "code",
   "execution_count": 9,
   "metadata": {},
   "outputs": [],
   "source": [
    "df_financials = df_financials.dropna()"
   ]
  },
  {
   "cell_type": "code",
   "execution_count": 10,
   "metadata": {},
   "outputs": [],
   "source": [
    "df_financials = df_financials.filter(\n",
    "    (col(\"Changed_Credit_Limit\") != \"_\") & (col(\"Credit_Mix\") != \"_\")\n",
    ")\n"
   ]
  },
  {
   "cell_type": "code",
   "execution_count": 11,
   "metadata": {},
   "outputs": [],
   "source": [
    "df_financials = df_financials.filter(\n",
    "    col(\"Payment_Behaviour\") != \"!@9#%8\"\n",
    ")"
   ]
  },
  {
   "cell_type": "code",
   "execution_count": 12,
   "metadata": {},
   "outputs": [],
   "source": [
    "df_attributes = df_attributes.filter(col(\"Occupation\") != \"_______\")\n"
   ]
  },
  {
   "cell_type": "markdown",
   "metadata": {},
   "source": [
    "2. modify value format"
   ]
  },
  {
   "cell_type": "code",
   "execution_count": 13,
   "metadata": {},
   "outputs": [],
   "source": [
    "from pyspark.sql.functions import col, when, regexp_replace"
   ]
  },
  {
   "cell_type": "code",
   "execution_count": 14,
   "metadata": {},
   "outputs": [],
   "source": [
    "for c in df_financials.columns:\n",
    "    df_financials = df_financials.withColumn(\n",
    "        c,\n",
    "        when(\n",
    "            col(c).cast(\"string\").rlike(\"_$\"),  \n",
    "            regexp_replace(col(c).cast(\"string\"), \"_$\", \"\")  \n",
    "        ).otherwise(col(c))\n",
    "    )"
   ]
  },
  {
   "cell_type": "code",
   "execution_count": 15,
   "metadata": {},
   "outputs": [],
   "source": [
    "for c in df_attributes.columns:\n",
    "    df_attributes = df_attributes.withColumn(\n",
    "        c,\n",
    "        when(\n",
    "            col(c).cast(\"string\").rlike(\"_$\"),\n",
    "            regexp_replace(col(c).cast(\"string\"), \"_$\", \"\")\n",
    "        ).otherwise(col(c))\n",
    "    )"
   ]
  },
  {
   "cell_type": "code",
   "execution_count": 16,
   "metadata": {},
   "outputs": [
    {
     "name": "stdout",
     "output_type": "stream",
     "text": [
      "+-----------+-------------+---------------------+-----------------+---------------+-------------+-----------+--------------------+-------------------+----------------------+--------------------+--------------------+----------+----------------+------------------------+--------------------+---------------------+-------------------+-----------------------+--------------------+------------------+-------------+\n",
      "|Customer_ID|Annual_Income|Monthly_Inhand_Salary|Num_Bank_Accounts|Num_Credit_Card|Interest_Rate|Num_of_Loan|        Type_of_Loan|Delay_from_due_date|Num_of_Delayed_Payment|Changed_Credit_Limit|Num_Credit_Inquiries|Credit_Mix|Outstanding_Debt|Credit_Utilization_Ratio|  Credit_History_Age|Payment_of_Min_Amount|Total_EMI_per_month|Amount_invested_monthly|   Payment_Behaviour|   Monthly_Balance|snapshot_date|\n",
      "+-----------+-------------+---------------------+-----------------+---------------+-------------+-----------+--------------------+-------------------+----------------------+--------------------+--------------------+----------+----------------+------------------------+--------------------+---------------------+-------------------+-----------------------+--------------------+------------------+-------------+\n",
      "| CUS_0x1000|     30625.94|   2706.1616666666664|                6|              5|           27|          2|Credit-Builder Lo...|                 57|                    26|                1.63|                11.0|       Bad|         1562.91|       30.07719135017377|10 Years and 9 Mo...|                  Yes| 42.941090422469365|      77.31427572208112|High_spent_Medium...|400.36080052211616|   2023-05-01|\n",
      "| CUS_0x1011|     58918.47|            5208.8725|                3|              3|           17|          3|Student Loan, Cre...|                 27|                    13|               14.42|                 7.0|  Standard|          473.14|       27.82995907548726|15 Years and 10 M...|                  Yes| 123.43493879634316|     383.35084463651407|Low_spent_Medium_...| 294.1014665671429|   2023-11-01|\n",
      "| CUS_0x1013|     98620.98|    7962.415000000001|                3|              3|            6|          3|Student Loan, Deb...|                 12|                     9|                1.33|                 3.0|      Good|         1233.51|       26.52486357896023|17 Years and 10 M...|                   No|   228.018083652734|      332.3337079767732|High_spent_Medium...| 485.8897083704929|   2023-12-01|\n",
      "| CUS_0x1018|     61194.81|            5014.5675|                7|              7|           23|          8|Credit-Builder Lo...|                 19|                    22|               28.63|                 8.0|       Bad|         2773.09|      27.268457710529688|14 Years and 3 Mo...|                  Yes|  225.3686913764476|     166.53062988488216|High_spent_Medium...|359.55742873867035|   2023-11-01|\n",
      "| CUS_0x1026|    170614.28|   14463.856666666668|                2|              6|            9|          2|Payday Loan, and ...|                  0|                     5|                0.73|                 3.0|      Good|          849.69|       31.75752065713533|20 Years and 8 Mo...|                   No| 208.90747938201577|     184.27787149576235|High_spent_Medium...|1303.2003157888887|   2023-10-01|\n",
      "| CUS_0x1037|    15989.085|           1086.42375|                5|              4|            2|          4|Credit-Builder Lo...|                 13|                    15|                 0.5|                 3.0|      Good|          665.82|       40.69769934536393|19 Years and 9 Mo...|                   No| 33.797020629881075|      80.46523951443457|Low_spent_Small_v...| 284.3801148556844|   2023-01-01|\n",
      "| CUS_0x1038|    129473.16|             10959.43|                3|              4|           10|          3|Payday Loan, Payd...|                 28|                    13|                8.61|                10.0|  Standard|          568.21|      34.089318015879286|20 Years and 0 Mo...|                  Yes| 255.32790499097848|     1088.2714495635144|Low_spent_Medium_...| 32.34364544550715|   2024-10-01|\n",
      "| CUS_0x103e|      98690.8|    8262.233333333334|                4|              6|            9|          1|        Student Loan|                  6|                    17|               10.76|                 4.0|      Good|          706.96|      26.860663456485163|26 Years and 11 M...|                   No| 55.004407569291885|      913.4813186573292|Low_spent_Small_v...| 147.7376071067124|   2024-12-01|\n",
      "| CUS_0x1041|      8978.11|    894.1758333333332|                8|              8|           30|          9|Payday Loan, Mort...|                 50|                    17|               18.48|                10.0|       Bad|         4913.15|       37.74656726266676|10 Years and 5 Mo...|                  Yes|  57.67965790681974|      43.56585814621352|High_spent_Small_...| 248.1720672803001|   2023-11-01|\n",
      "| CUS_0x1048|     42387.54|             3680.295|                3|              7|           26|          7|Personal Loan, No...|                  9|                     8|               10.34|                 7.0|  Standard|         1835.67|       28.75306000732747|10 Years and 0 Mo...|                  Yes|   225.883368970478|     133.51336229583663|High_spent_Small_...| 268.6327687336854|   2024-02-01|\n",
      "| CUS_0x104a|     14981.39|   1461.4491666666663|                2|              7|            5|          4|Mortgage Loan, Au...|                  5|                     6|                0.63|                 4.0|      Good|         1122.46|       39.64164181721113|32 Years and 3 Mo...|                   No|  38.11596751942855|     164.88918149049954|Low_spent_Small_v...|233.13976765673854|   2023-12-01|\n",
      "| CUS_0x104e|     19180.87|    1688.405833333333|                8|              4|           18|          4|Debt Consolidatio...|                  5|                    17|                9.32|                 6.0|  Standard|         1127.57|       29.46533771819808|25 Years and 2 Mo...|                   No|  57.36421100960239|     107.98322725525713|High_spent_Small_...|263.49314506847384|   2023-06-01|\n",
      "| CUS_0x1056|     16053.86|   1196.8216666666667|                8|              6|           24|          5|Student Loan, Stu...|                 27|                    18|                0.83|                12.0|       Bad|         2107.76|       36.85466926663253|16 Years and 2 Mo...|                  Yes|  44.86029054336601|     154.06862404801825|Low_spent_Small_v...| 210.7532520752824|   2023-04-01|\n",
      "| CUS_0x105c|     127617.6|              10596.8|                0|              4|            5|          3|Not Specified, Mo...|                  3|                     6|               12.22|                 0.0|      Good|          542.91|       39.87736764081963|24 Years and 4 Mo...|                   No| 211.05460599751723|               __10000_|High_spent_Medium...| 861.6006703641515|   2023-06-01|\n",
      "| CUS_0x1069|     58637.34|             4799.445|                4|              6|           10|        119|Personal Loan, Au...|                  9|                    17|               12.56|                 5.0|  Standard|           208.8|       25.23314363376225|30 Years and 8 Mo...|                  Yes|  139.8850133927109|     165.21061289035896|High_spent_Small_...| 434.8488737169301|   2023-01-01|\n",
      "| CUS_0x106f|    134035.08|   11102.589999999998|                0|              5|           10|          2|Home Equity Loan,...|                  6|                     7|                5.32|                 8.0|      Good|          767.91|       31.12893781571753|24 Years and 11 M...|                   No| 143.48373199958996|     1075.3385104350662|Low_spent_Medium_...|171.43675756534392|   2023-08-01|\n",
      "| CUS_0x107c|     49718.55|            4179.2125|                7|             10|           27|          6|Payday Loan, Mort...|                 27|                    17|                10.5|                 7.0|       Bad|         1920.25|       30.10963834234661|14 Years and 0 Mo...|                  Yes| 231.95678064503065|     430.88393873056435|Low_spent_Small_v...|45.080530624405014|   2023-11-01|\n",
      "| CUS_0x107e|     75095.91|            6269.9925|                5|              6|           15|          6|Personal Loan, Pa...|                  9|                    10|               20.53|                 8.0|  Standard|          989.71|       24.21913739089471|12 Years and 0 Mo...|                  Yes|            78446.0|               __10000_|Low_spent_Medium_...|234.06656029063686|   2024-11-01|\n",
      "| CUS_0x1087|     42153.13|   3377.7608333333333|                5|              4|           10|          3|Payday Loan, Not ...|                 10|                     9|                4.81|                 7.0|      Good|         1027.64|       26.34447694521021|28 Years and 5 Mo...|                   No|  79.29961145958775|      80.62490239728156|High_spent_Small_...|  437.851569476464|   2024-09-01|\n",
      "| CUS_0x1096|     12931.56|              1348.63|                4|              4|            9|          3|Not Specified, De...|                 18|                    20|               18.51|                 3.0|  Standard|          752.86|       27.70974959154035|21 Years and 4 Mo...|                  Yes| 20.579154708485927|     105.56661253457969|Low_spent_Small_v...| 298.7172327569344|   2024-03-01|\n",
      "+-----------+-------------+---------------------+-----------------+---------------+-------------+-----------+--------------------+-------------------+----------------------+--------------------+--------------------+----------+----------------+------------------------+--------------------+---------------------+-------------------+-----------------------+--------------------+------------------+-------------+\n",
      "only showing top 20 rows\n",
      "\n"
     ]
    }
   ],
   "source": [
    "df_financials.show()"
   ]
  },
  {
   "cell_type": "code",
   "execution_count": 17,
   "metadata": {},
   "outputs": [
    {
     "name": "stdout",
     "output_type": "stream",
     "text": [
      "+-----------+-----------------+---+-----------+-------------+-------------+\n",
      "|Customer_ID|             Name|Age|        SSN|   Occupation|snapshot_date|\n",
      "+-----------+-----------------+---+-----------+-------------+-------------+\n",
      "| CUS_0x1000|   Alistair Barrf| 18|913-74-1218|       Lawyer|   2023-05-01|\n",
      "| CUS_0x100b|         Shirboni| 19|  #F%$D@*&8|Media_Manager|   2024-03-01|\n",
      "| CUS_0x1011|        Schneyerh| 44|793-05-8223|       Doctor|   2023-11-01|\n",
      "| CUS_0x1013|         Cameront| 44|930-49-9615|     Mechanic|   2023-12-01|\n",
      "| CUS_0x1015|          Holtono| 27|810-97-7024|   Journalist|   2023-08-01|\n",
      "| CUS_0x1018|      Felsenthalq| 15|731-19-8119|   Accountant|   2023-11-01|\n",
      "| CUS_0x1026|          Josephv| 52|500-62-9044|      Manager|   2023-10-01|\n",
      "| CUS_0x102d| Neil Chatterjeex| 31|692-71-7552| Entrepreneur|   2024-01-01|\n",
      "| CUS_0x102e|            Rhysn| 26|  #F%$D@*&8|    Scientist|   2024-04-01|\n",
      "| CUS_0x1032|           Wahbap| 40|620-58-8045|       Lawyer|   2023-08-01|\n",
      "| CUS_0x1037|         Matthewm| 45|230-22-9583|   Accountant|   2023-01-01|\n",
      "| CUS_0x1038|              B.h| 28|355-00-7832|    Architect|   2024-10-01|\n",
      "| CUS_0x103e|       Tim Kellyf| 40|155-72-8070|    Scientist|   2024-12-01|\n",
      "| CUS_0x1041|Jonathan Stempela| 15|675-80-2033|      Teacher|   2023-11-01|\n",
      "| CUS_0x1048|   Janet McGurtyg| 27|808-81-2470|   Accountant|   2024-02-01|\n",
      "| CUS_0x104a|            Leahk| 37|  #F%$D@*&8|     Mechanic|   2023-12-01|\n",
      "| CUS_0x104e|         Kentaros| 50|837-93-5062|      Teacher|   2023-06-01|\n",
      "| CUS_0x1051|  Lucia Mutikanin| 42|232-33-7638|     Engineer|   2024-01-01|\n",
      "| CUS_0x1056|          Hornbyb| 44|081-93-4350| Entrepreneur|   2023-04-01|\n",
      "| CUS_0x1057|  David Sheppardv| 46|741-07-3912|       Writer|   2023-09-01|\n",
      "+-----------+-----------------+---+-----------+-------------+-------------+\n",
      "only showing top 20 rows\n",
      "\n"
     ]
    }
   ],
   "source": [
    "df_attributes.show()"
   ]
  },
  {
   "cell_type": "markdown",
   "metadata": {},
   "source": [
    "3.remove unreasonable value"
   ]
  },
  {
   "cell_type": "code",
   "execution_count": 18,
   "metadata": {},
   "outputs": [],
   "source": [
    "from pyspark.sql.functions import col\n",
    "\n",
    "# Remove rows where any of the following numeric columns have negative values\n",
    "df_financials = df_financials.filter(\n",
    "    (col(\"Num_Bank_Accounts\") >= 0) &\n",
    "    (col(\"Num_of_Loan\") >= 0) &\n",
    "    (col(\"Delay_from_due_date\") >= 0) &\n",
    "    (col(\"Num_of_Delayed_Payment\") >= 0)\n",
    ")\n",
    "\n",
    "# Remove rows where Payment_of_Min_Amount is 'NM'\n",
    "df_financials = df_financials.filter(col(\"Payment_of_Min_Amount\") != \"NM\")\n"
   ]
  },
  {
   "cell_type": "code",
   "execution_count": 19,
   "metadata": {},
   "outputs": [],
   "source": [
    "df_attributes = df_attributes.filter((col(\"Age\") >= 0) & (col(\"Age\") <= 122))\n"
   ]
  },
  {
   "cell_type": "markdown",
   "metadata": {},
   "source": [
    "4. transfor column format"
   ]
  },
  {
   "cell_type": "code",
   "execution_count": 20,
   "metadata": {},
   "outputs": [],
   "source": [
    "from pyspark.sql.functions import col, regexp_extract, when\n",
    "from pyspark.sql.types import DoubleType\n",
    "from pyspark.sql.types import DateType\n"
   ]
  },
  {
   "cell_type": "code",
   "execution_count": 21,
   "metadata": {},
   "outputs": [],
   "source": [
    "# 1. Convert snapshot_date to DateType\n",
    "df_financials = df_financials.withColumn(\"snapshot_date\", col(\"snapshot_date\").cast(DateType()))\n",
    "\n",
    "# 2. Convert Credit_History_Age from \"X Years and Y Months\" to float\n",
    "df_financials = df_financials.withColumn(\"Credit_History_Years\", regexp_extract(col(\"Credit_History_Age\"), r\"(\\d+)\\s+Years\", 1).cast(\"int\"))\n",
    "df_financials = df_financials.withColumn(\"Credit_History_Months\", regexp_extract(col(\"Credit_History_Age\"), r\"(\\d+)\\s+Months\", 1).cast(\"int\"))\n",
    "\n",
    "df_financials = df_financials.withColumn(\n",
    "    \"Credit_History_Age_Num\",\n",
    "    (col(\"Credit_History_Years\") + col(\"Credit_History_Months\") / 12).cast(\"double\")\n",
    ")\n",
    "\n",
    "df_financials = df_financials.drop(\"Credit_History_Years\", \"Credit_History_Months\", \"Credit_History_Age\")\n",
    "df_financials = df_financials.withColumnRenamed(\"Credit_History_Age_Num\", \"Credit_History_Age\")\n",
    "\n",
    "# 3. Columns to treat as categorical (keep as string)\n",
    "categorical_cols = [\"Customer_ID\", \"Type_of_Loan\", \"Credit_Mix\", \"Payment_of_Min_Amount\", \"Payment_Behaviour\", \"snapshot_date\", \"Credit_History_Age\"]\n",
    "\n",
    "# 4. Convert all other columns to double\n",
    "for c, dtype in df_financials.dtypes:\n",
    "    if c not in categorical_cols:\n",
    "        df_financials = df_financials.withColumn(c, col(c).cast(DoubleType()))\n",
    "\n",
    "\n",
    "\n"
   ]
  },
  {
   "cell_type": "code",
   "execution_count": 22,
   "metadata": {},
   "outputs": [],
   "source": [
    "#df_financials.show()"
   ]
  },
  {
   "cell_type": "code",
   "execution_count": 23,
   "metadata": {},
   "outputs": [],
   "source": [
    "# 1. Convert Age to double\n",
    "df_attributes = df_attributes.withColumn(\"Age\", col(\"Age\").cast(DoubleType()))\n",
    "\n",
    "# 2. Convert snapshot_date to date\n",
    "df_attributes = df_attributes.withColumn(\"snapshot_date\", col(\"snapshot_date\").cast(DateType()))\n",
    "\n",
    "# 3. Convert all other columns to string (except Age and snapshot_date)\n",
    "for c in df_attributes.columns:\n",
    "    if c not in [\"Age\", \"snapshot_date\"]:\n",
    "        df_attributes = df_attributes.withColumn(c, col(c).cast(\"string\"))\n"
   ]
  },
  {
   "cell_type": "code",
   "execution_count": 24,
   "metadata": {},
   "outputs": [],
   "source": [
    "#df_attributes.show()"
   ]
  },
  {
   "cell_type": "code",
   "execution_count": 25,
   "metadata": {},
   "outputs": [
    {
     "data": {
      "text/plain": [
       "DataFrame[fe_1: int, fe_2: int, fe_3: int, fe_4: int, fe_5: int, fe_6: int, fe_7: int, fe_8: int, fe_9: int, fe_10: int, fe_11: int, fe_12: int, fe_13: int, fe_14: int, fe_15: int, fe_16: int, fe_17: int, fe_18: int, fe_19: int, fe_20: int, Customer_ID: string, snapshot_date: date]"
      ]
     },
     "execution_count": 25,
     "metadata": {},
     "output_type": "execute_result"
    }
   ],
   "source": [
    "# 1. Convert snapshot_date to DateType\n",
    "df_clickstream = df_clickstream.withColumn(\"snapshot_date\", col(\"snapshot_date\").cast(DateType()))\n",
    "\n",
    "# 2. Ensure Customer_ID is string (in case it's numeric)\n",
    "df_clickstream.withColumn(\"Customer_ID\", col(\"Customer_ID\").cast(\"string\"))\n"
   ]
  },
  {
   "cell_type": "code",
   "execution_count": 26,
   "metadata": {},
   "outputs": [],
   "source": [
    "#df_clickstream.show()"
   ]
  },
  {
   "cell_type": "markdown",
   "metadata": {},
   "source": [
    "5. reduce dimension for clickstream data"
   ]
  },
  {
   "cell_type": "code",
   "execution_count": 27,
   "metadata": {},
   "outputs": [],
   "source": [
    "from scipy.stats import linregress"
   ]
  },
  {
   "cell_type": "code",
   "execution_count": 28,
   "metadata": {},
   "outputs": [],
   "source": [
    "from pyspark.sql.functions import col, avg, stddev\n",
    "\n",
    "agg_exprs = []\n",
    "for c in df_clickstream.columns:\n",
    "    if c.startswith(\"fe_\"):\n",
    "        agg_exprs.append(avg(col(c)).alias(c + \"_mean\"))\n",
    "        agg_exprs.append(stddev(col(c)).alias(c + \"_std\"))\n",
    "\n",
    "df_clickstream_stats = df_clickstream.groupBy(\"Customer_ID\").agg(*agg_exprs)\n"
   ]
  },
  {
   "cell_type": "code",
   "execution_count": 29,
   "metadata": {},
   "outputs": [
    {
     "name": "stderr",
     "output_type": "stream",
     "text": [
      "[Stage 17:>                                                         (0 + 5) / 5]"
     ]
    },
    {
     "name": "stdout",
     "output_type": "stream",
     "text": [
      "+-----------+------------------+------------------+------------------+------------------+------------------+------------------+------------------+------------------+------------------+------------------+------------------+------------------+------------------+------------------+------------------+------------------+------------------+------------------+------------------+------------------+------------------+------------------+------------------+------------------+------------------+------------------+------------------+------------------+------------------+------------------+------------------+------------------+------------------+------------------+------------------+------------------+------------------+------------------+------------------+------------------+\n",
      "|Customer_ID|         fe_1_mean|          fe_1_std|         fe_2_mean|          fe_2_std|         fe_3_mean|          fe_3_std|         fe_4_mean|          fe_4_std|         fe_5_mean|          fe_5_std|         fe_6_mean|          fe_6_std|         fe_7_mean|          fe_7_std|         fe_8_mean|          fe_8_std|         fe_9_mean|          fe_9_std|        fe_10_mean|         fe_10_std|        fe_11_mean|         fe_11_std|        fe_12_mean|         fe_12_std|        fe_13_mean|         fe_13_std|        fe_14_mean|         fe_14_std|        fe_15_mean|         fe_15_std|        fe_16_mean|         fe_16_std|        fe_17_mean|         fe_17_std|        fe_18_mean|         fe_18_std|        fe_19_mean|         fe_19_std|        fe_20_mean|         fe_20_std|\n",
      "+-----------+------------------+------------------+------------------+------------------+------------------+------------------+------------------+------------------+------------------+------------------+------------------+------------------+------------------+------------------+------------------+------------------+------------------+------------------+------------------+------------------+------------------+------------------+------------------+------------------+------------------+------------------+------------------+------------------+------------------+------------------+------------------+------------------+------------------+------------------+------------------+------------------+------------------+------------------+------------------+------------------+\n",
      "| CUS_0x6ba9|114.20833333333333| 110.5751678887407| 96.95833333333333|108.57955575308011|             129.0| 86.51262787945292|           125.875|104.19643342807102| 89.54166666666667|  108.524082347078|           101.375|100.96698233451929| 88.91666666666667|112.86079022855765|              82.5| 82.84348784461497|112.29166666666667|110.81142586145742|131.20833333333334|101.03592953979793|            90.875| 92.78554633506046|            66.875|120.39186470420883|             121.0|110.14456903069039|            74.375| 97.48257926865479| 96.08333333333333|  109.601220505211| 97.66666666666667| 96.34614527911808| 86.20833333333333|101.04238420483307|142.58333333333334|122.30678343968628| 93.83333333333333|119.86901063304448|           153.125|103.34968605997626|\n",
      "| CUS_0x74c7| 81.08333333333333|145.67740317942742|110.95833333333333|  92.6477570373831| 95.58333333333333|112.14544774209678|110.29166666666667|101.52038954197144|112.41666666666667| 74.93122450485579| 85.79166666666667| 75.78228493615727|106.29166666666667| 92.40199469269267| 97.45833333333333| 99.04894669091495|115.33333333333333|108.80683588925783| 88.95833333333333|101.91491727082372|122.45833333333333|  95.8467885954348|            101.75| 79.06092862332575|              83.0| 97.34698137389107|            77.875| 72.03158274703867| 98.04166666666667| 80.16639172570287|105.29166666666667|100.09233961335583|110.79166666666667| 97.32687155938093|100.16666666666667| 92.59620926914067| 99.29166666666667| 93.63457145207903|105.41666666666667| 103.3217501689311|\n",
      "|  CUS_0xc65|137.58333333333334| 98.59972513704818|108.20833333333333|108.79936827129046|            114.25|124.84294481293374| 85.45833333333333|  93.9662192615987|105.91666666666667| 86.12019743240897|              68.5|106.59227478329873|102.66666666666667|105.47023757673419|126.83333333333333| 98.45708253573876|169.16666666666666| 110.5766178077314|130.54166666666666|105.81977261061525| 88.33333333333333| 79.83170704222327| 85.58333333333333| 92.49766937917792| 94.91666666666667| 95.93200339491675|            106.75|107.43339696113448|100.58333333333333|  86.2206051569066|106.79166666666667|107.75575407481442|111.29166666666667| 91.92458116950225| 88.95833333333333| 137.7314586800885| 64.33333333333333| 88.07934499354973| 65.83333333333333| 96.66736631430965|\n",
      "| CUS_0x5a8b| 80.79166666666667| 87.91941921647525|122.45833333333333| 96.78257980454535|115.20833333333333| 96.41936444812167|           114.125| 87.62633736497264|           121.625| 97.70577505071473|103.58333333333333| 97.23164481599183|             94.75|108.60388735135629|102.70833333333333| 84.95035847950909|117.33333333333333|115.65641269338009|118.95833333333333|100.68568361022322|109.91666666666667|114.98541180313366|            72.375|101.32076163911537| 67.20833333333333|109.27268610012399|             91.75|133.72010027438398|             39.75|109.77694776622988| 95.16666666666667|  99.4151010603549|134.04166666666666|104.17605464941951|146.91666666666666|109.72650453332344|           102.375|110.62856479149535| 83.70833333333333| 78.06490007159688|\n",
      "| CUS_0x78d3| 74.95833333333333| 75.70163352821774|             114.5| 92.66301734029977|              74.5|106.67952821010428|125.66666666666667| 103.5704619073901|103.91666666666667|  80.9916349232205|62.833333333333336| 92.16840289792171|              85.5|109.98537452177744|           127.375|114.74160478904423|115.41666666666667|   90.107142344263|112.91666666666667|104.40469615735752|              82.0| 82.33705911889145|            109.75| 105.8691768584967| 97.16666666666667| 93.60586504602418|109.20833333333333| 79.35170975208858| 99.95833333333333|117.75526542890508|114.95833333333333|127.62359028448249|             109.5|107.70047030699459|140.91666666666666|112.05197422417969|111.58333333333333|119.93545969709551|           130.125|  76.3938948733015|\n",
      "| CUS_0x7f5d| 68.91666666666667| 99.99344181393649|            124.75|120.31055828472665|124.41666666666667|106.53103922726268|104.91666666666667| 98.30383984126068|107.29166666666667| 94.49383654465267| 94.29166666666667| 82.27867765771062|             129.0|  94.7261499178599| 80.91666666666667|109.37328052478642|            89.125|114.80657173282147|              43.0|110.78573130538773|           138.875|  83.2697619839853| 98.41666666666667|108.78495606777008| 96.29166666666667| 114.7786069927162| 68.95833333333333| 85.31857393305994|             111.5|101.26117759021234| 87.41666666666667|  99.1221980432614|107.45833333333333|100.26485758563001|            93.875|115.66267012683723| 97.79166666666667| 96.28399079835634|62.208333333333336| 119.0524105143418|\n",
      "| CUS_0x8eb2| 67.16666666666667| 94.61026080333656| 99.79166666666667| 85.22654167451066|105.08333333333333|108.15042530084484| 67.58333333333333| 98.10505312814097|111.83333333333333|103.12452020090403| 97.58333333333333|113.11168650138856|118.95833333333333|108.55512691582165| 88.08333333333333|106.45918453104218|109.33333333333333| 91.72864834682909|111.16666666666667|124.76052422860806|             92.75| 95.64256374648267|106.29166666666667| 56.64571756841447| 78.20833333333333|   98.378585141751| 82.58333333333333| 84.69788594798557| 89.70833333333333|108.04808879732035|109.70833333333333| 89.98573759776875|121.41666666666667|103.77396702393168|             102.5|107.85295948450009|           108.125|102.82163217668868| 80.33333333333333|100.98199007169833|\n",
      "|  CUS_0xf6c| 96.70833333333333|120.85797599794083| 76.04166666666667| 88.66227037700872|114.20833333333333| 66.06056454804029| 98.66666666666667|110.70590364316294|127.45833333333333|127.39666884139498| 64.20833333333333|104.42179481259676|109.54166666666667| 84.16855716057366|            99.625|  90.0023248491997|126.54166666666667|125.35687461999343|141.20833333333334|104.89621337164725|123.16666666666667| 78.33188404456396|115.58333333333333| 113.2922026814105|110.04166666666667|  95.9435881205684|            97.875| 97.05234468417366| 82.20833333333333|100.50004506452231|            127.25|118.08075718503547| 92.83333333333333|107.76087321983545|102.83333333333333|111.78226765600544|            84.875| 85.56376340890841|            80.625|115.51540928641813|\n",
      "| CUS_0x7e24| 82.70833333333333|119.26896136433626|131.08333333333334|106.96277965668271|109.79166666666667| 74.07632912227686|           117.625|105.68032703270335| 95.58333333333333| 91.53897562225073|102.79166666666667| 93.38837985934666| 80.16666666666667|115.66693814444189|           125.625| 79.41679402943085|            132.75|105.44656590363465|            130.25| 96.46637170312367|110.45833333333333|114.02897387970292|103.33333333333333| 90.44319219539275|116.70833333333333|111.75574264659849|            82.875| 80.65725256481495|            80.375|111.39464217074278| 90.04166666666667| 75.30718492580422| 69.20833333333333|  114.121209081918|           107.875| 89.63613038036179|            121.75| 131.5688776467193|            98.125|100.83189303079612|\n",
      "| CUS_0xc65a| 92.16666666666667| 98.32805193382735| 99.95833333333333| 88.55382994033319| 71.95833333333333| 99.58019672460053|126.58333333333333| 85.36566699469567| 65.91666666666667| 86.67526434499847|106.20833333333333| 94.83669220510485| 72.04166666666667| 115.4343326091832| 92.70833333333333|118.22987159018605|142.83333333333334| 81.42303202981044|121.70833333333333| 87.68346191131839|101.83333333333333|  90.4941346485898|121.91666666666667|120.39749985367011|104.58333333333333|101.13525883543358| 96.66666666666667| 93.36588459280563|             94.75| 91.28895833036698|119.33333333333333| 100.5669435994131| 96.16666666666667| 96.69389921255392|103.29166666666667|121.13394640237925|102.79166666666667|103.61214431366317| 66.33333333333333|100.11022910279695|\n",
      "|  CUS_0xebe| 93.95833333333333|  81.7565203710897|             99.75| 88.44711020914039|57.791666666666664|109.46390279216592| 68.54166666666667| 72.49586444976596| 94.16666666666667| 87.70735265725975|134.70833333333334| 91.72950744570628|            85.125|  98.4233590602132|114.08333333333333| 94.39137611062765|121.79166666666667|  81.0710794768161|152.08333333333334|  90.2907943050225|137.41666666666666|107.87549855461062|121.41666666666667|106.65544551484942|107.45833333333333| 98.53535192868671|114.79166666666667|114.44458661639311|            138.75|107.06326857639304|             121.0| 94.43562334480427|137.83333333333334| 129.1987571170083|             59.25|108.32007722686862|             104.5| 78.91767862779542| 73.20833333333333|101.59423946638718|\n",
      "| CUS_0x1ed5|114.16666666666667| 92.16368551406912|124.33333333333333|  87.5892919138579|125.79166666666667|104.98777534082001|            100.25| 94.15539883848818|139.91666666666666|107.84889456072796| 71.45833333333333| 90.59272413757446| 98.70833333333333|104.97762874170803|124.54166666666667| 103.4924820485996|             72.25| 99.99663037801086|            122.25| 82.08969113904831|100.33333333333333|123.32166023881601|            81.625| 84.57762706531791| 86.79166666666667| 131.3902184059134| 97.29166666666667|121.69472825089002|            97.375|114.92220903913562|            81.875|113.92534264004728| 66.16666666666667| 88.60791340981109|103.79166666666667| 74.99911835230591|            72.625|103.82293141188282|156.04166666666666|112.64815526256065|\n",
      "| CUS_0x5479| 70.08333333333333| 87.30751084113761|            98.125| 93.77091071143639|107.66666666666667| 95.71909385037152|            131.25| 77.05630352569138|           100.125| 75.08969274488835| 71.45833333333333| 95.64016764240152|139.83333333333334|101.05472760348471|124.79166666666667|126.09967733181716|            123.25| 89.54437811595943|             104.0|100.93863826925828|            125.75|103.15427450099237|            78.625| 132.5751017676232|            93.125| 98.23676479059019|116.79166666666667| 97.14936020584899|110.58333333333333| 107.6802499620244| 81.33333333333333| 82.94454232467183|             99.75|102.45306454558892|107.16666666666667| 84.22210113052618|60.833333333333336| 76.40149478771407| 68.20833333333333| 99.59525882144263|\n",
      "| CUS_0x7e8d| 79.45833333333333| 76.74802315350549|104.83333333333333| 72.44288104771064|             34.25| 85.08525136590947|           114.625| 82.85860795984614| 99.70833333333333|106.89835853730877|             95.25|  96.8154901368308| 94.08333333333333|111.40170815436424|110.29166666666667|  91.9297837750505|             142.5|117.77539419700904|123.70833333333333| 99.19260104185832|              96.5| 93.37116210609932| 82.16666666666667| 86.46118338239454|110.04166666666667| 76.06374853095073|              85.5| 99.02481024207145|109.29166666666667|104.64493970468473|138.04166666666666| 102.8479160731014| 99.04166666666667| 97.72342479479109|              72.5|138.04630603060573|             43.75| 83.15634828964993|            81.125| 106.0136629832704|\n",
      "| CUS_0xb38d|117.95833333333333| 106.7363591393244|            100.75|  84.0549768332297|           105.375|104.82731659423429|120.54166666666667| 90.27059763345676|63.708333333333336|106.38505908773774| 93.41666666666667| 98.77595054362727|111.04166666666667| 90.48683746061185| 91.54166666666667| 97.69516883906161| 98.04166666666667| 87.66808906654524|             108.0| 100.7182898635768|122.45833333333333| 89.04418989256507|106.20833333333333|105.07180946822766|            131.25| 96.29043475905047| 75.66666666666667|106.82072208455935| 94.20833333333333|103.88035725385433|           132.125|114.13086024765417|112.45833333333333| 78.38144144068059| 94.45833333333333| 80.81539842869307| 77.58333333333333| 79.16131942276873| 77.33333333333333| 97.17964837336578|\n",
      "| CUS_0xafeb| 80.45833333333333| 93.27424695449187|122.70833333333333| 76.58781783403748|             115.5| 96.96570438091479| 90.83333333333333| 56.19118503255043|             101.0|104.03093185494734|            129.25| 82.11881635776298|147.70833333333334|102.69095856507764|            141.75| 79.59913152246344|              92.0|  86.6697881266191|107.83333333333333| 117.4984427895579|107.33333333333333| 96.82825075837907|103.16666666666667|  94.7158986088152|102.20833333333333|113.04865407604726|115.54166666666667| 89.76780635601504| 79.08333333333333|102.19287674770202| 66.29166666666667|105.94932306518534|106.29166666666667| 97.03942684455035|103.66666666666667| 126.8133399465758|105.33333333333333|109.91841506778786|108.70833333333333| 90.24868018626266|\n",
      "| CUS_0x1b0f|100.83333333333333|104.79199549030726|116.79166666666667| 72.66299768027781|107.20833333333333|114.90600285778645|101.83333333333333|105.41333413991208|122.58333333333333|121.51074980774573|109.58333333333333|102.00763682692828| 87.20833333333333| 102.9795163957447| 69.04166666666667| 76.33876396731854| 64.95833333333333| 99.49764216855316| 72.41666666666667| 99.33689566611044| 77.04166666666667| 92.98409362179461|           119.375|105.43277788322715|            132.75| 90.51267026367563|106.79166666666667|101.91470396394217|106.20833333333333|  90.0246242481161|           106.875|111.10406891934598|            99.125| 105.4362830462488|133.79166666666666|109.56871148385329|127.91666666666667| 92.96699585788808|             122.5| 83.98447061420241|\n",
      "| CUS_0x834f| 87.20833333333333|113.62714738647804|           136.625|109.00730430252987|             132.0|105.84566286733758|100.29166666666667|114.90316496441942| 98.29166666666667| 83.79917980643894| 75.91666666666667| 99.97604785611169|            93.875| 98.41584906825773|             84.75|109.10236517581332|           130.875|109.03063490517738| 83.41666666666667|113.91832187129081| 69.95833333333333|132.93721275937708|           108.125| 83.61886228856969|111.91666666666667|109.68925145180803|48.083333333333336|109.76572549185661|           130.125| 81.49436496923656|             79.25|112.17658827278417|           114.375|103.31960229013325|128.83333333333334|112.58645631214945|             95.75| 115.7723590950568| 85.33333333333333| 95.33586699785073|\n",
      "| CUS_0x856b| 82.58333333333333| 89.32155719483481|131.95833333333334|108.89024357088901| 66.79166666666667|119.20423802163597|116.66666666666667| 90.81115937299042|124.79166666666667|109.96243594446504| 83.45833333333333| 84.03052197379476|107.70833333333333|104.92543073293888|            145.25|127.03722494504959|122.45833333333333| 66.05332441797813|           148.375| 64.22502052058502|106.20833333333333|111.25254434478524|102.41666666666667| 98.36883417135675|106.83333333333333|107.46350914194758|108.41666666666667|134.16632010037156| 97.29166666666667| 62.95372984541325|103.20833333333333|126.61993083262198| 72.16666666666667| 151.4735352596551|111.91666666666667| 88.74776992503342|            88.125|107.74055491741744|146.20833333333334|103.87993871131552|\n",
      "| CUS_0x8d3d|120.20833333333333|116.24112090136518| 94.45833333333333|113.11978228819014|117.29166666666667| 81.34974368184236| 92.95833333333333| 96.41598242338594|58.041666666666664| 92.12490536443333|113.66666666666667|109.51857760480507|           110.625|104.78002319559565|137.04166666666666|  77.5463279015486|122.08333333333333| 98.32904682379139|170.66666666666666| 79.77177591030588|            113.25|139.78531676327344|106.20833333333333| 91.12293615085953| 83.79166666666667| 76.41191528224802|              62.0| 89.27729152818591|           113.875|113.23400645297023|121.04166666666667|107.78863341166185|             100.0| 93.24535190653694|           118.375|112.34682809322521|112.91666666666667| 120.5292375378243|106.33333333333333| 84.94226513224793|\n",
      "+-----------+------------------+------------------+------------------+------------------+------------------+------------------+------------------+------------------+------------------+------------------+------------------+------------------+------------------+------------------+------------------+------------------+------------------+------------------+------------------+------------------+------------------+------------------+------------------+------------------+------------------+------------------+------------------+------------------+------------------+------------------+------------------+------------------+------------------+------------------+------------------+------------------+------------------+------------------+------------------+------------------+\n",
      "only showing top 20 rows\n",
      "\n"
     ]
    },
    {
     "name": "stderr",
     "output_type": "stream",
     "text": [
      "                                                                                "
     ]
    }
   ],
   "source": [
    "df_clickstream_stats.show()"
   ]
  },
  {
   "cell_type": "markdown",
   "metadata": {},
   "source": [
    "save to folder"
   ]
  },
  {
   "cell_type": "code",
   "execution_count": 31,
   "metadata": {},
   "outputs": [],
   "source": [
    "\n",
    "# Save as single CSV using pandas\n",
    "#df_financials.toPandas().to_csv(\"datamart/silver/silver_features_financials.csv\", index=False)\n",
    "#df_attributes.toPandas().to_csv(\"datamart/silver/silver_features_attributes.csv\", index=False)\n",
    "#df_clickstream_stats.toPandas().to_csv(\"datamart/silver/silver_feature_clickstream.csv\", index=False)"
   ]
  },
  {
   "cell_type": "markdown",
   "metadata": {},
   "source": [
    "## EDA"
   ]
  },
  {
   "cell_type": "markdown",
   "metadata": {},
   "source": [
    "1. import data"
   ]
  },
  {
   "cell_type": "code",
   "execution_count": 32,
   "metadata": {},
   "outputs": [
    {
     "name": "stdout",
     "output_type": "stream",
     "text": [
      "silver_features_financials.csv row count: 6316\n",
      "silver_features_attributes.csv row count: 10842\n",
      "silver_feature_clickstream.csv row count: 8974\n"
     ]
    }
   ],
   "source": [
    "# Define silver directory\n",
    "silver_dir = \"datamart/silver/\"\n",
    "\n",
    "# Read silver_features_financials.csv\n",
    "df_financials = spark.read.csv(os.path.join(silver_dir, \"silver_features_financials.csv\"), header=True, inferSchema=True)\n",
    "print(\"silver_features_financials.csv row count:\", df_financials.count())\n",
    "\n",
    "# Read silver_features_attributes.csv\n",
    "df_attributes = spark.read.csv(os.path.join(silver_dir, \"silver_features_attributes.csv\"), header=True, inferSchema=True)\n",
    "print(\"silver_features_attributes.csv row count:\", df_attributes.count())\n",
    "\n",
    "# Read silver_feature_clickstream.csv\n",
    "df_clickstream_stats = spark.read.csv(os.path.join(silver_dir, \"silver_feature_clickstream.csv\"), header=True, inferSchema=True)\n",
    "print(\"silver_feature_clickstream.csv row count:\", df_clickstream_stats.count())"
   ]
  },
  {
   "cell_type": "code",
   "execution_count": null,
   "metadata": {},
   "outputs": [],
   "source": []
  },
  {
   "cell_type": "code",
   "execution_count": null,
   "metadata": {},
   "outputs": [],
   "source": [
    "df_joined = df_financials.join(df_attributes, on=\"Customer_ID\", how=\"inner\")\n",
    "df_joined = df_joined.join(df_clickstream_stats, on=\"Customer_ID\", how=\"inner\")\n"
   ]
  },
  {
   "cell_type": "code",
   "execution_count": null,
   "metadata": {},
   "outputs": [],
   "source": [
    "df_joined.show()"
   ]
  },
  {
   "cell_type": "code",
   "execution_count": null,
   "metadata": {},
   "outputs": [],
   "source": [
    "df_joined.count()"
   ]
  },
  {
   "cell_type": "markdown",
   "metadata": {},
   "source": [
    "2. EDA on attribute feature"
   ]
  },
  {
   "cell_type": "code",
   "execution_count": null,
   "metadata": {},
   "outputs": [],
   "source": [
    "import pandas as pd\n",
    "import matplotlib.pyplot as plt\n",
    "import seaborn as sns"
   ]
  },
  {
   "cell_type": "code",
   "execution_count": null,
   "metadata": {},
   "outputs": [],
   "source": [
    "df_joined_pd = df_joined.toPandas()"
   ]
  },
  {
   "cell_type": "code",
   "execution_count": null,
   "metadata": {},
   "outputs": [],
   "source": [
    "# Set seaborn style\n",
    "sns.set(style=\"whitegrid\")\n",
    "\n",
    "# ---- Age  ----\n",
    "plt.figure(figsize=(10, 5))\n",
    "sns.histplot(df_joined_pd [\"Age\"], bins=30, kde=True, color=\"skyblue\")\n",
    "plt.title(\"Age Distribution\")\n",
    "plt.xlabel(\"Age\")\n",
    "plt.ylabel(\"Count\")\n",
    "plt.tight_layout()\n",
    "plt.show()"
   ]
  },
  {
   "cell_type": "code",
   "execution_count": null,
   "metadata": {},
   "outputs": [],
   "source": [
    "# Set plot style\n",
    "sns.set(style=\"whitegrid\")\n",
    "\n",
    "# Plot all Occupation categories\n",
    "plt.figure(figsize=(14, 8))\n",
    "occupation_counts = df_joined_pd [\"Occupation\"].value_counts()\n",
    "sns.barplot(x=occupation_counts.index, y=occupation_counts.values, palette=\"mako\")\n",
    "\n",
    "plt.title(\"Occupation Distribution (All Categories)\")\n",
    "plt.xlabel(\"Occupation\")\n",
    "plt.ylabel(\"Frequency\")\n",
    "plt.xticks(rotation=75, ha='right')  # Rotate x-axis labels for readability\n",
    "plt.tight_layout()\n",
    "plt.show()\n"
   ]
  },
  {
   "cell_type": "markdown",
   "metadata": {},
   "source": [
    "3. EDA on financial feature"
   ]
  },
  {
   "cell_type": "code",
   "execution_count": null,
   "metadata": {},
   "outputs": [],
   "source": [
    "\n",
    "# Set plot style\n",
    "sns.set(style=\"whitegrid\")\n",
    "\n",
    "# List of financial ability features\n",
    "features = [\n",
    "    \"Annual_Income\",\n",
    "    \"Monthly_Inhand_Salary\",\n",
    "    \"Monthly_Balance\",\n",
    "    \"Amount_invested_monthly\"\n",
    "]\n",
    "\n",
    "# Plot distribution for each feature\n",
    "for feature in features:\n",
    "    plt.figure(figsize=(10, 4))\n",
    "    sns.histplot(df_joined_pd [feature], bins=30, kde=True, color=\"skyblue\")\n",
    "    plt.title(f\"Distribution of {feature}\")\n",
    "    plt.xlabel(feature)\n",
    "    plt.ylabel(\"Count\")\n",
    "    plt.tight_layout()\n",
    "    plt.show()\n"
   ]
  },
  {
   "cell_type": "code",
   "execution_count": null,
   "metadata": {},
   "outputs": [],
   "source": [
    "upper = df_joined_pd[\"Annual_Income\"].quantile(0.99)\n",
    "plt.figure(figsize=(10, 5))\n",
    "sns.histplot(df_joined_pd[df_joined_pd[\"Annual_Income\"] <= upper][\"Annual_Income\"],\n",
    "             bins=30, kde=True, color=\"salmon\")\n",
    "plt.title(\"Annual_Income (Capped at 99th Percentile)\")\n",
    "plt.xlabel(\"Annual_Income\")\n",
    "plt.ylabel(\"Count\")\n",
    "plt.tight_layout()\n",
    "plt.show()"
   ]
  },
  {
   "cell_type": "code",
   "execution_count": null,
   "metadata": {},
   "outputs": [],
   "source": [
    "features = [\n",
    "    \"Num_Bank_Accounts\", \n",
    "    \"Num_Credit_Card\", \n",
    "    \"Num_of_Loan\", \n",
    "    \"Outstanding_Debt\", \n",
    "    \"Total_EMI_per_month\", \n",
    "    \"Credit_Utilization_Ratio\"\n",
    "]\n"
   ]
  },
  {
   "cell_type": "code",
   "execution_count": null,
   "metadata": {},
   "outputs": [],
   "source": [
    "# Set seaborn style\n",
    "sns.set(style=\"whitegrid\")\n",
    "\n",
    "# Loop through each feature and plot\n",
    "for feature in features:\n",
    "    plt.figure(figsize=(10, 4))\n",
    "    sns.histplot(df_joined_pd[feature], bins=30, kde=True, color=\"skyblue\")\n",
    "    plt.title(f\"Distribution of {feature}\")\n",
    "    plt.xlabel(feature)\n",
    "    plt.ylabel(\"Count\")\n",
    "    plt.tight_layout()\n",
    "    plt.show()\n"
   ]
  },
  {
   "cell_type": "markdown",
   "metadata": {},
   "source": [
    "4. EDA on click stream"
   ]
  },
  {
   "cell_type": "code",
   "execution_count": null,
   "metadata": {},
   "outputs": [],
   "source": [
    "# Set seaborn style\n",
    "sns.set(style=\"whitegrid\")\n",
    "\n",
    "# Loop through fe_1_mean to fe_20_mean\n",
    "for i in range(1, 21):\n",
    "    col = f\"fe_{i}_mean\"\n",
    "    if col in df_joined_pd.columns:\n",
    "        plt.figure(figsize=(10, 4))\n",
    "        sns.histplot(df_joined_pd[col], bins=30, kde=True, color=\"lightcoral\")\n",
    "        plt.title(f\"Distribution of {col}\")\n",
    "        plt.xlabel(col)\n",
    "        plt.ylabel(\"Count\")\n",
    "        plt.tight_layout()\n",
    "        plt.show()"
   ]
  },
  {
   "cell_type": "code",
   "execution_count": null,
   "metadata": {},
   "outputs": [],
   "source": [
    "# Select all fe_*_mean columns\n",
    "fe_mean_cols = [f\"fe_{i}_mean\" for i in range(1, 21)]\n",
    "\n",
    "# Subset DataFrame\n",
    "df_fe_mean = df_joined_pd[fe_mean_cols].dropna()\n",
    "\n",
    "# Compute correlation matrix\n",
    "corr_matrix = df_fe_mean.corr()\n",
    "\n",
    "# Plot heatmap\n",
    "plt.figure(figsize=(12, 10))\n",
    "sns.heatmap(corr_matrix, annot=True, fmt=\".2f\", cmap=\"coolwarm\", square=True, linewidths=0.5)\n",
    "plt.title(\"Correlation Heatmap: fe_1_mean to fe_20_mean\")\n",
    "plt.tight_layout()\n",
    "plt.show()"
   ]
  },
  {
   "cell_type": "markdown",
   "metadata": {},
   "source": [
    "## Build Gold lable"
   ]
  },
  {
   "cell_type": "code",
   "execution_count": null,
   "metadata": {},
   "outputs": [],
   "source": [
    "# Define silver directory\n",
    "silver_dir = \"datamart/silver/\"\n",
    "\n",
    "# Read silver_features_financials.csv\n",
    "df_financials = spark.read.csv(os.path.join(silver_dir, \"silver_features_financials.csv\"), header=True, inferSchema=True)\n",
    "print(\"silver_features_financials.csv row count:\", df_financials.count())\n",
    "\n",
    "# Read silver_features_attributes.csv\n",
    "df_attributes = spark.read.csv(os.path.join(silver_dir, \"silver_features_attributes.csv\"), header=True, inferSchema=True)\n",
    "print(\"silver_features_attributes.csv row count:\", df_attributes.count())\n",
    "\n",
    "# Read silver_feature_clickstream.csv\n",
    "df_clickstream_stats = spark.read.csv(os.path.join(silver_dir, \"silver_feature_clickstream.csv\"), header=True, inferSchema=True)\n",
    "print(\"silver_feature_clickstream.csv row count:\", df_clickstream_stats.count())"
   ]
  },
  {
   "cell_type": "code",
   "execution_count": null,
   "metadata": {},
   "outputs": [],
   "source": [
    "df_joined = df_financials.join(df_attributes, on=\"Customer_ID\", how=\"inner\")\n",
    "df_joined = df_joined.join(df_clickstream_stats, on=\"Customer_ID\", how=\"inner\")"
   ]
  },
  {
   "cell_type": "code",
   "execution_count": null,
   "metadata": {},
   "outputs": [],
   "source": [
    "# Drop columns in Spark DataFrame\n",
    "df_joined = df_joined.drop(\"SSN\", \"snapshot_date\", \"Type_of_Loan\")\n"
   ]
  },
  {
   "cell_type": "code",
   "execution_count": null,
   "metadata": {},
   "outputs": [],
   "source": [
    "# Convert to Pandas\n",
    "df_joined_pd = df_joined.toPandas()\n",
    "\n",
    "# Save as CSV\n",
    "df_joined_pd.to_csv(\"datamart/gold/gold_features.csv\", index=False)\n"
   ]
  }
 ],
 "metadata": {
  "kernelspec": {
   "display_name": "Python 3 (ipykernel)",
   "language": "python",
   "name": "python3"
  },
  "language_info": {
   "codemirror_mode": {
    "name": "ipython",
    "version": 3
   },
   "file_extension": ".py",
   "mimetype": "text/x-python",
   "name": "python",
   "nbconvert_exporter": "python",
   "pygments_lexer": "ipython3",
   "version": "3.12.10"
  }
 },
 "nbformat": 4,
 "nbformat_minor": 4
}
